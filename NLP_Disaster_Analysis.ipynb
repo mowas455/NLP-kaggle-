{
  "nbformat": 4,
  "nbformat_minor": 0,
  "metadata": {
    "colab": {
      "name": "NLP Disaster Analysis.ipynb",
      "provenance": [],
      "collapsed_sections": [],
      "authorship_tag": "ABX9TyNNxQyOcPqveZUmx8U4QUoQ",
      "include_colab_link": true
    },
    "kernelspec": {
      "name": "python3",
      "display_name": "Python 3"
    },
    "language_info": {
      "name": "python"
    }
  },
  "cells": [
    {
      "cell_type": "markdown",
      "metadata": {
        "id": "view-in-github",
        "colab_type": "text"
      },
      "source": [
        "<a href=\"https://colab.research.google.com/github/mowas455/NLP-kaggle-/blob/main/NLP_Disaster_Analysis.ipynb\" target=\"_parent\"><img src=\"https://colab.research.google.com/assets/colab-badge.svg\" alt=\"Open In Colab\"/></a>"
      ]
    },
    {
      "cell_type": "markdown",
      "metadata": {
        "id": "vpkDEji1Ykfs"
      },
      "source": [
        " # Natural language Processing with Disaster Tweets"
      ]
    },
    {
      "cell_type": "code",
      "metadata": {
        "id": "6lrvY-z0YJtY"
      },
      "source": [
        "import pandas as pd\n",
        "import numpy as np\n",
        "import matplotlib.pyplot as plt\n",
        "import seaborn as sns\n",
        "from wordcloud import WordCloud ,STOPWORDS\n",
        "from PIL import Image"
      ],
      "execution_count": 1,
      "outputs": []
    },
    {
      "cell_type": "markdown",
      "metadata": {
        "id": "tG-VP4l5a467"
      },
      "source": [
        "## Dataset\n",
        "\n",
        "Twitter has become an important communication channel in times of emergency.\n",
        "The ubiquitousness of smartphones enables people to announce an emergency they’re observing in real-time. Because of this, more agencies are interested in programatically monitoring Twitter (i.e. disaster relief organizations and news agencies)."
      ]
    },
    {
      "cell_type": "code",
      "metadata": {
        "id": "lZ5GzFbwYfHz"
      },
      "source": [
        "sample_submission = pd.read_csv(\"/content/sample_data/sample_submission.csv\")\n",
        "test = pd.read_csv(\"/content/sample_data/test.csv\")\n",
        "train = pd.read_csv(\"/content/sample_data/train.csv\")"
      ],
      "execution_count": 2,
      "outputs": []
    },
    {
      "cell_type": "code",
      "metadata": {
        "colab": {
          "base_uri": "https://localhost:8080/"
        },
        "id": "LgZQq56kYkRV",
        "outputId": "09f971ca-0745-497a-d9d3-1c2d6b0a5764"
      },
      "source": [
        "print(train.shape)\n",
        "print(test.shape)"
      ],
      "execution_count": 3,
      "outputs": [
        {
          "output_type": "stream",
          "name": "stdout",
          "text": [
            "(7613, 5)\n",
            "(3263, 4)\n"
          ]
        }
      ]
    },
    {
      "cell_type": "code",
      "metadata": {
        "colab": {
          "base_uri": "https://localhost:8080/",
          "height": 203
        },
        "id": "Y8SaezqAbNDm",
        "outputId": "b486f665-e514-448b-aa49-c5a094a96072"
      },
      "source": [
        "train.head()"
      ],
      "execution_count": 4,
      "outputs": [
        {
          "output_type": "execute_result",
          "data": {
            "text/html": [
              "<div>\n",
              "<style scoped>\n",
              "    .dataframe tbody tr th:only-of-type {\n",
              "        vertical-align: middle;\n",
              "    }\n",
              "\n",
              "    .dataframe tbody tr th {\n",
              "        vertical-align: top;\n",
              "    }\n",
              "\n",
              "    .dataframe thead th {\n",
              "        text-align: right;\n",
              "    }\n",
              "</style>\n",
              "<table border=\"1\" class=\"dataframe\">\n",
              "  <thead>\n",
              "    <tr style=\"text-align: right;\">\n",
              "      <th></th>\n",
              "      <th>id</th>\n",
              "      <th>keyword</th>\n",
              "      <th>location</th>\n",
              "      <th>text</th>\n",
              "      <th>target</th>\n",
              "    </tr>\n",
              "  </thead>\n",
              "  <tbody>\n",
              "    <tr>\n",
              "      <th>0</th>\n",
              "      <td>1</td>\n",
              "      <td>NaN</td>\n",
              "      <td>NaN</td>\n",
              "      <td>Our Deeds are the Reason of this #earthquake M...</td>\n",
              "      <td>1</td>\n",
              "    </tr>\n",
              "    <tr>\n",
              "      <th>1</th>\n",
              "      <td>4</td>\n",
              "      <td>NaN</td>\n",
              "      <td>NaN</td>\n",
              "      <td>Forest fire near La Ronge Sask. Canada</td>\n",
              "      <td>1</td>\n",
              "    </tr>\n",
              "    <tr>\n",
              "      <th>2</th>\n",
              "      <td>5</td>\n",
              "      <td>NaN</td>\n",
              "      <td>NaN</td>\n",
              "      <td>All residents asked to 'shelter in place' are ...</td>\n",
              "      <td>1</td>\n",
              "    </tr>\n",
              "    <tr>\n",
              "      <th>3</th>\n",
              "      <td>6</td>\n",
              "      <td>NaN</td>\n",
              "      <td>NaN</td>\n",
              "      <td>13,000 people receive #wildfires evacuation or...</td>\n",
              "      <td>1</td>\n",
              "    </tr>\n",
              "    <tr>\n",
              "      <th>4</th>\n",
              "      <td>7</td>\n",
              "      <td>NaN</td>\n",
              "      <td>NaN</td>\n",
              "      <td>Just got sent this photo from Ruby #Alaska as ...</td>\n",
              "      <td>1</td>\n",
              "    </tr>\n",
              "  </tbody>\n",
              "</table>\n",
              "</div>"
            ],
            "text/plain": [
              "   id keyword  ...                                               text target\n",
              "0   1     NaN  ...  Our Deeds are the Reason of this #earthquake M...      1\n",
              "1   4     NaN  ...             Forest fire near La Ronge Sask. Canada      1\n",
              "2   5     NaN  ...  All residents asked to 'shelter in place' are ...      1\n",
              "3   6     NaN  ...  13,000 people receive #wildfires evacuation or...      1\n",
              "4   7     NaN  ...  Just got sent this photo from Ruby #Alaska as ...      1\n",
              "\n",
              "[5 rows x 5 columns]"
            ]
          },
          "metadata": {},
          "execution_count": 4
        }
      ]
    },
    {
      "cell_type": "code",
      "metadata": {
        "colab": {
          "base_uri": "https://localhost:8080/"
        },
        "id": "58a4EQlGbPwq",
        "outputId": "046039d0-2608-439d-9bd8-90935a9acebd"
      },
      "source": [
        "# To check the null values in the dataset\n",
        "train.columns[train.isnull().any()]"
      ],
      "execution_count": 5,
      "outputs": [
        {
          "output_type": "execute_result",
          "data": {
            "text/plain": [
              "Index(['keyword', 'location'], dtype='object')"
            ]
          },
          "metadata": {},
          "execution_count": 5
        }
      ]
    },
    {
      "cell_type": "code",
      "metadata": {
        "colab": {
          "base_uri": "https://localhost:8080/"
        },
        "id": "SKTA_-EjbX3h",
        "outputId": "f10e815c-175b-444d-d180-f010b6ec2f25"
      },
      "source": [
        "# Estimate the target values \n",
        "train[\"target\"].value_counts()"
      ],
      "execution_count": 6,
      "outputs": [
        {
          "output_type": "execute_result",
          "data": {
            "text/plain": [
              "0    4342\n",
              "1    3271\n",
              "Name: target, dtype: int64"
            ]
          },
          "metadata": {},
          "execution_count": 6
        }
      ]
    },
    {
      "cell_type": "code",
      "metadata": {
        "colab": {
          "base_uri": "https://localhost:8080/",
          "height": 417
        },
        "id": "lIb31OO-b0G5",
        "outputId": "5350ac61-dac5-45a1-d313-ee17ee7ebc5f"
      },
      "source": [
        "plt.figure(figsize=(16,6))\n",
        "train[\"target\"].value_counts().plot(kind=\"bar\")\n",
        "plt.xlabel(\"target\")\n",
        "plt.ylabel(\"Counts\")\n",
        "plt.title(\"Comments of Twitter\")\n"
      ],
      "execution_count": 7,
      "outputs": [
        {
          "output_type": "execute_result",
          "data": {
            "text/plain": [
              "Text(0.5, 1.0, 'Comments of Twitter')"
            ]
          },
          "metadata": {},
          "execution_count": 7
        },
        {
          "output_type": "display_data",
          "data": {
            "image/png": "[encoded data removed]",
            "text/plain": [
              "<Figure size 1152x432 with 1 Axes>"
            ]
          },
          "metadata": {
            "needs_background": "light"
          }
        }
      ]
    },
    {
      "cell_type": "markdown",
      "metadata": {
        "id": "EHcztysqdDSq"
      },
      "source": [
        "### Preprocess the text\n",
        "\n",
        "To implement preprocess we have to use spacy library to remove the remove the stop word, number, symbols and non-alphabetic letters\n"
      ]
    },
    {
      "cell_type": "code",
      "metadata": {
        "id": "muwY015YeM20"
      },
      "source": [
        "import spacy\n",
        "import en_core_web_sm\n",
        "nlp = spacy.load(\"en_core_web_sm\")"
      ],
      "execution_count": 8,
      "outputs": []
    },
    {
      "cell_type": "code",
      "metadata": {
        "id": "HpDrxRvrlZ7n"
      },
      "source": [
        "# lower the words in training data\n",
        "ltexts = [[word.lower() for word in line.split()] for line in train[\"text\"]]"
      ],
      "execution_count": 9,
      "outputs": []
    },
    {
      "cell_type": "code",
      "metadata": {
        "id": "w0Fdh_t8dBdS"
      },
      "source": [
        "def preprocess(text):\n",
        "    text = ' '.join(text)\n",
        "    # tokenization and removing stop words\n",
        "    token = [t for t in nlp(text) if not t.is_stop] \n",
        "    # lemmatization\n",
        "    lemma = [lem.lemma_ for lem in token]\n",
        "    # removing the non-alphabetic words\n",
        "    return [' '.join(i for i in lemma if i.isalpha()) ]"
      ],
      "execution_count": 36,
      "outputs": []
    },
    {
      "cell_type": "code",
      "metadata": {
        "colab": {
          "base_uri": "https://localhost:8080/"
        },
        "id": "bxbkbWk0crsk",
        "outputId": "0fac25a4-ffaf-40ec-c75f-620b83db72e1"
      },
      "source": [
        "print(ltexts[5])\n",
        "\n",
        "# sample preprocessing for one text in the data\n",
        "print(preprocess(ltexts[5]))"
      ],
      "execution_count": 37,
      "outputs": [
        {
          "output_type": "stream",
          "name": "stdout",
          "text": [
            "['#rockyfire', 'update', '=>', 'california', 'hwy.', '20', 'closed', 'in', 'both', 'directions', 'due', 'to', 'lake', 'county', 'fire', '-', '#cafire', '#wildfires']\n",
            "['rockyfire update california hwy close direction lake county fire cafire wildfire']\n"
          ]
        }
      ]
    },
    {
      "cell_type": "code",
      "metadata": {
        "id": "Hscq8CtbeDPj"
      },
      "source": [
        "proc_text = []\n",
        "for i in range(len(ltexts)):\n",
        "  proc_text.append(preprocess(ltexts[i])) "
      ],
      "execution_count": 38,
      "outputs": []
    },
    {
      "cell_type": "code",
      "metadata": {
        "colab": {
          "base_uri": "https://localhost:8080/"
        },
        "id": "CV9kvCJmfz98",
        "outputId": "7212351c-096d-4441-8719-359160eb38db"
      },
      "source": [
        "print(proc_text[5])"
      ],
      "execution_count": 39,
      "outputs": [
        {
          "output_type": "stream",
          "name": "stdout",
          "text": [
            "['rockyfire update california hwy close direction lake county fire cafire wildfire']\n"
          ]
        }
      ]
    },
    {
      "cell_type": "markdown",
      "metadata": {
        "id": "8kp0V61zgdYy"
      },
      "source": [
        "### Naive Bayes Classifier\n",
        "\n",
        "\n",
        "You are now ready to train and evaluate a classifier. More specifically, we ask you to train a Multinomial Naive Bayes classifier. You will have to\n",
        "\n",
        "vectorize the speeches in the training data\n",
        "instantiate and fit the Naive Bayes model\n",
        "evaluate the model on the test data\n",
        "The scikit-learn library provides a convenience class Pipeline that allows you to solve the first two tasks with very compact code. For the evaluation you can use the function classification_report, which will report per-class precision, recall and F1, as well as overall accuracy.\n",
        "\n",
        "For the implementation of text classification.\n",
        "\n",
        "vectorizer(countvectorizer)-- matrix document vector --- predictor(MNB)"
      ]
    },
    {
      "cell_type": "code",
      "metadata": {
        "id": "bIW44IdlpBLf"
      },
      "source": [
        "from sklearn.feature_extraction.text import CountVectorizer\n",
        "from sklearn.feature_extraction.text import TfidfTransformer\n",
        "from sklearn.preprocessing import StandardScaler\n",
        "from sklearn.pipeline import Pipeline\n",
        "from sklearn.naive_bayes import MultinomialNB\n",
        "from sklearn.metrics import classification_report"
      ],
      "execution_count": 14,
      "outputs": []
    },
    {
      "cell_type": "code",
      "metadata": {
        "colab": {
          "base_uri": "https://localhost:8080/"
        },
        "id": "Ekt-zPhj3MeY",
        "outputId": "f501457a-f678-4826-aa7a-0f94e6863a19"
      },
      "source": [
        "from sklearn.model_selection import train_test_split\n",
        "x_train, x_test, y_train, y_test = train_test_split(train['text'],train['target'],test_size=0.3, random_state=9)\n",
        "print(x_train.shape)\n",
        "print(x_test.shape)"
      ],
      "execution_count": 15,
      "outputs": [
        {
          "output_type": "stream",
          "name": "stdout",
          "text": [
            "(5329,)\n",
            "(2284,)\n"
          ]
        }
      ]
    },
    {
      "cell_type": "code",
      "metadata": {
        "colab": {
          "base_uri": "https://localhost:8080/"
        },
        "id": "fPIq0Wyeg8O6",
        "outputId": "11722697-3d8d-4a27-e35d-d183038c2f39"
      },
      "source": [
        "# pipeline the process of text classificatinn\n",
        "pipe = Pipeline([(\"count_vectorizer\",CountVectorizer()),\n",
        "                 (\"tfidf_transformer\",TfidfTransformer()),\n",
        "                 (\"nb_classifier\",MultinomialNB())])\n",
        "\n",
        "# fit the model to the train data\n",
        "pipe.fit(x_train, y_train)\n",
        "\n",
        "# predict the train values \n",
        "train_pred = pipe.predict(x_train)\n",
        "print(classification_report(y_train, train_pred))\n",
        "\n",
        "# predict the test values\n",
        "test_pred = pipe.predict(x_test)\n",
        "print(classification_report(y_test, test_pred))"
      ],
      "execution_count": 18,
      "outputs": [
        {
          "output_type": "stream",
          "name": "stdout",
          "text": [
            "              precision    recall  f1-score   support\n",
            "\n",
            "           0       0.85      0.98      0.91      3046\n",
            "           1       0.97      0.77      0.86      2283\n",
            "\n",
            "    accuracy                           0.89      5329\n",
            "   macro avg       0.91      0.88      0.89      5329\n",
            "weighted avg       0.90      0.89      0.89      5329\n",
            "\n",
            "              precision    recall  f1-score   support\n",
            "\n",
            "           0       0.77      0.93      0.84      1296\n",
            "           1       0.88      0.63      0.73       988\n",
            "\n",
            "    accuracy                           0.80      2284\n",
            "   macro avg       0.82      0.78      0.79      2284\n",
            "weighted avg       0.81      0.80      0.79      2284\n",
            "\n"
          ]
        }
      ]
    },
    {
      "cell_type": "markdown",
      "metadata": {
        "id": "NwObeOLP4iCv"
      },
      "source": [
        "## Creating a balanced data set"
      ]
    },
    {
      "cell_type": "code",
      "metadata": {
        "id": "m4ROzy1B2yuV"
      },
      "source": [
        "t = [0,1]\n",
        "from sklearn.utils import resample\n",
        "\n",
        "min_amount = min(train['target'].value_counts())\n",
        "min_amount\n",
        "\n",
        "# open a list to segragate a each class values\n",
        "dflist=[]\n",
        "for i in t:\n",
        "   dflist.append(train[train[\"target\"]==i])\n",
        "\n",
        "# sampling function\n",
        "def nsample(x, n=min_amount):\n",
        "  new = resample(x, replace = False, n_samples = n)\n",
        "  return new  \n",
        "\n",
        "# Apppend the eqaully sampled data of each classes\n",
        "undersampled_data  = []\n",
        "for i in dflist:\n",
        "  undersampled_data.append(nsample(i))\n",
        "\n",
        "# Final undersampled data\n",
        "df2 =  pd.concat(undersampled_data)\n"
      ],
      "execution_count": 20,
      "outputs": []
    },
    {
      "cell_type": "code",
      "metadata": {
        "colab": {
          "base_uri": "https://localhost:8080/",
          "height": 417
        },
        "id": "brfT4zQL5kzI",
        "outputId": "94f1cd39-f078-4b04-cee4-974fe4f3058f"
      },
      "source": [
        "df2"
      ],
      "execution_count": 23,
      "outputs": [
        {
          "output_type": "execute_result",
          "data": {
            "text/html": [
              "<div>\n",
              "<style scoped>\n",
              "    .dataframe tbody tr th:only-of-type {\n",
              "        vertical-align: middle;\n",
              "    }\n",
              "\n",
              "    .dataframe tbody tr th {\n",
              "        vertical-align: top;\n",
              "    }\n",
              "\n",
              "    .dataframe thead th {\n",
              "        text-align: right;\n",
              "    }\n",
              "</style>\n",
              "<table border=\"1\" class=\"dataframe\">\n",
              "  <thead>\n",
              "    <tr style=\"text-align: right;\">\n",
              "      <th></th>\n",
              "      <th>id</th>\n",
              "      <th>keyword</th>\n",
              "      <th>location</th>\n",
              "      <th>text</th>\n",
              "      <th>target</th>\n",
              "    </tr>\n",
              "  </thead>\n",
              "  <tbody>\n",
              "    <tr>\n",
              "      <th>2682</th>\n",
              "      <td>3848</td>\n",
              "      <td>detonation</td>\n",
              "      <td>NaN</td>\n",
              "      <td>Ignition Knock (Detonation) Sensor-Senso Stand...</td>\n",
              "      <td>0</td>\n",
              "    </tr>\n",
              "    <tr>\n",
              "      <th>6020</th>\n",
              "      <td>8599</td>\n",
              "      <td>seismic</td>\n",
              "      <td>Third rock from the Sun</td>\n",
              "      <td>@hebrooon u better learn derivative of formula...</td>\n",
              "      <td>0</td>\n",
              "    </tr>\n",
              "    <tr>\n",
              "      <th>1709</th>\n",
              "      <td>2465</td>\n",
              "      <td>collided</td>\n",
              "      <td>San Francisco</td>\n",
              "      <td>Mind blown by @GlassAnimals slithering viscous...</td>\n",
              "      <td>0</td>\n",
              "    </tr>\n",
              "    <tr>\n",
              "      <th>4739</th>\n",
              "      <td>6738</td>\n",
              "      <td>lava</td>\n",
              "      <td>buffalo / madrid / granada</td>\n",
              "      <td>let's play the floor is lava but instead of ju...</td>\n",
              "      <td>0</td>\n",
              "    </tr>\n",
              "    <tr>\n",
              "      <th>1483</th>\n",
              "      <td>2138</td>\n",
              "      <td>catastrophe</td>\n",
              "      <td>Stockholm, Sweden</td>\n",
              "      <td>I rated Catastrophe (2015) 8/10  #IMDb - hilar...</td>\n",
              "      <td>0</td>\n",
              "    </tr>\n",
              "    <tr>\n",
              "      <th>...</th>\n",
              "      <td>...</td>\n",
              "      <td>...</td>\n",
              "      <td>...</td>\n",
              "      <td>...</td>\n",
              "      <td>...</td>\n",
              "    </tr>\n",
              "    <tr>\n",
              "      <th>2755</th>\n",
              "      <td>3958</td>\n",
              "      <td>devastation</td>\n",
              "      <td>NaN</td>\n",
              "      <td>70 Years After Atomic Bombs Japan Still Strugg...</td>\n",
              "      <td>1</td>\n",
              "    </tr>\n",
              "    <tr>\n",
              "      <th>3924</th>\n",
              "      <td>5580</td>\n",
              "      <td>flood</td>\n",
              "      <td>New York</td>\n",
              "      <td>2pcs 18W CREE Led Work Light  Offroad Lamp Car...</td>\n",
              "      <td>1</td>\n",
              "    </tr>\n",
              "    <tr>\n",
              "      <th>3126</th>\n",
              "      <td>4490</td>\n",
              "      <td>electrocuted</td>\n",
              "      <td>Mumbai, Maharashtra</td>\n",
              "      <td>Watching a man electrocuted on the roof of #mu...</td>\n",
              "      <td>1</td>\n",
              "    </tr>\n",
              "    <tr>\n",
              "      <th>5885</th>\n",
              "      <td>8405</td>\n",
              "      <td>sandstorm</td>\n",
              "      <td>USA</td>\n",
              "      <td>Watch This Airport Get Swallowed Up By A Sands...</td>\n",
              "      <td>1</td>\n",
              "    </tr>\n",
              "    <tr>\n",
              "      <th>7434</th>\n",
              "      <td>10632</td>\n",
              "      <td>wounded</td>\n",
              "      <td>Paterson, New Jersey</td>\n",
              "      <td>Police Officer Wounded Suspect Dead After Exch...</td>\n",
              "      <td>1</td>\n",
              "    </tr>\n",
              "  </tbody>\n",
              "</table>\n",
              "<p>6542 rows × 5 columns</p>\n",
              "</div>"
            ],
            "text/plain": [
              "         id  ... target\n",
              "2682   3848  ...      0\n",
              "6020   8599  ...      0\n",
              "1709   2465  ...      0\n",
              "4739   6738  ...      0\n",
              "1483   2138  ...      0\n",
              "...     ...  ...    ...\n",
              "2755   3958  ...      1\n",
              "3924   5580  ...      1\n",
              "3126   4490  ...      1\n",
              "5885   8405  ...      1\n",
              "7434  10632  ...      1\n",
              "\n",
              "[6542 rows x 5 columns]"
            ]
          },
          "metadata": {},
          "execution_count": 23
        }
      ]
    },
    {
      "cell_type": "code",
      "metadata": {
        "colab": {
          "base_uri": "https://localhost:8080/"
        },
        "id": "zrsxPQzWhGbx",
        "outputId": "505a8032-f335-48e2-96fe-38f760809a4a"
      },
      "source": [
        "# split the training and test data\n",
        "bX_train = df2[\"text\"]\n",
        "by_train = df2[\"target\"]\n",
        "\n",
        "\n",
        "# fit the model to the train data\n",
        "pipe.fit(bX_train, by_train)\n",
        "\n",
        "# predict the train values \n",
        "btrain_pred = pipe.predict(bX_train)\n",
        "print(classification_report(by_train, btrain_pred))\n",
        "\n",
        "# predict the test values\n",
        "btest_pred = pipe.predict(x_test)\n",
        "print(classification_report(y_test, btest_pred))"
      ],
      "execution_count": 25,
      "outputs": [
        {
          "output_type": "stream",
          "name": "stdout",
          "text": [
            "              precision    recall  f1-score   support\n",
            "\n",
            "           0       0.86      0.95      0.91      3271\n",
            "           1       0.95      0.85      0.90      3271\n",
            "\n",
            "    accuracy                           0.90      6542\n",
            "   macro avg       0.91      0.90      0.90      6542\n",
            "weighted avg       0.91      0.90      0.90      6542\n",
            "\n",
            "              precision    recall  f1-score   support\n",
            "\n",
            "           0       0.89      0.92      0.91      1296\n",
            "           1       0.89      0.86      0.87       988\n",
            "\n",
            "    accuracy                           0.89      2284\n",
            "   macro avg       0.89      0.89      0.89      2284\n",
            "weighted avg       0.89      0.89      0.89      2284\n",
            "\n"
          ]
        }
      ]
    },
    {
      "cell_type": "markdown",
      "metadata": {
        "id": "UGMkrqZb58b8"
      },
      "source": [
        "### Confusion matrix\n",
        "\n",
        "A confusion matrix is a specific table that is useful when analysing the performance of a classifier. In this table, both the rows and the columns correspond to classes, and each cell  (i,j)  states how many times a sample with gold-standard class  i  was predicted as belonging to class  j ."
      ]
    },
    {
      "cell_type": "code",
      "metadata": {
        "id": "7rEyimxb5I7_"
      },
      "source": [
        "# Creation of confusion matrix in using sklearn\n",
        "from sklearn.metrics import confusion_matrix\n",
        "from sklearn.metrics import ConfusionMatrixDisplay\n",
        "from sklearn.metrics import plot_confusion_matrix"
      ],
      "execution_count": 26,
      "outputs": []
    },
    {
      "cell_type": "code",
      "metadata": {
        "colab": {
          "base_uri": "https://localhost:8080/"
        },
        "id": "VvVTAKCd6Hqq",
        "outputId": "0ae7d192-9d88-49f8-8765-b475d39a4874"
      },
      "source": [
        "cm = confusion_matrix(y_test,btest_pred)\n",
        "cm"
      ],
      "execution_count": 27,
      "outputs": [
        {
          "output_type": "execute_result",
          "data": {
            "text/plain": [
              "array([[1195,  101],\n",
              "       [ 142,  846]])"
            ]
          },
          "metadata": {},
          "execution_count": 27
        }
      ]
    },
    {
      "cell_type": "code",
      "metadata": {
        "colab": {
          "base_uri": "https://localhost:8080/",
          "height": 574
        },
        "id": "6wouudPV6KDc",
        "outputId": "5389bdfa-748e-4611-eb56-61685648ee7a"
      },
      "source": [
        "fig,ax = plt.subplots(figsize=(10, 10))\n",
        "disp = ConfusionMatrixDisplay(confusion_matrix=cm,display_labels=t)\n",
        "disp.plot(ax=ax)\n",
        "plt.show()"
      ],
      "execution_count": 28,
      "outputs": [
        {
          "output_type": "display_data",
          "data": {
            "image/png": "[encoded data removed]",
            "text/plain": [
              "<Figure size 720x720 with 2 Axes>"
            ]
          },
          "metadata": {
            "needs_background": "light"
          }
        }
      ]
    },
    {
      "cell_type": "markdown",
      "metadata": {
        "id": "Qo3gAjS26vRi"
      },
      "source": [
        "### Grid Search method to improve the accuracy"
      ]
    },
    {
      "cell_type": "code",
      "metadata": {
        "id": "PtdJS7lv8L0s"
      },
      "source": [
        "from sklearn.model_selection import GridSearchCV"
      ],
      "execution_count": 29,
      "outputs": []
    },
    {
      "cell_type": "code",
      "metadata": {
        "id": "72Yz1zt-8UIl"
      },
      "source": [
        "Gpipe = Pipeline([('count_vect',CountVectorizer()),\n",
        "                ('tfidf_transformer',TfidfTransformer()),\n",
        "                ('nbClassifier',MultinomialNB())])\n",
        "\n",
        "\n",
        "parameters = {\n",
        "    'count_vect__binary': [True, False],\n",
        "    'count_vect__ngram_range': [(1, 1), (1, 2)],\n",
        "    'nbClassifier__alpha': (1, 0.1),\n",
        "}\n",
        "\n",
        "grid_search = GridSearchCV(Gpipe, parameters, cv=5)"
      ],
      "execution_count": 30,
      "outputs": []
    },
    {
      "cell_type": "code",
      "metadata": {
        "colab": {
          "base_uri": "https://localhost:8080/"
        },
        "id": "WCS7Qrlm8UvU",
        "outputId": "9c651799-dfab-47b5-8528-678fa19ce5d2"
      },
      "source": [
        "# find the best parameters for both the feature extraction and the\n",
        " # classifier\n",
        "clf = grid_search.fit(bX_train, by_train)\n",
        "print(grid_search.best_params_)"
      ],
      "execution_count": 31,
      "outputs": [
        {
          "output_type": "stream",
          "name": "stdout",
          "text": [
            "{'count_vect__binary': True, 'count_vect__ngram_range': (1, 1), 'nbClassifier__alpha': 1}\n"
          ]
        }
      ]
    },
    {
      "cell_type": "code",
      "metadata": {
        "colab": {
          "base_uri": "https://localhost:8080/"
        },
        "id": "Yy1Uc4-r8Zli",
        "outputId": "14c009e8-676f-447b-9ef6-3058195e57a7"
      },
      "source": [
        "cv_test_pred = clf.predict(x_test)\n",
        "print(classification_report(y_test,cv_test_pred))"
      ],
      "execution_count": 34,
      "outputs": [
        {
          "output_type": "stream",
          "name": "stdout",
          "text": [
            "              precision    recall  f1-score   support\n",
            "\n",
            "           0       0.89      0.92      0.91      1296\n",
            "           1       0.89      0.86      0.88       988\n",
            "\n",
            "    accuracy                           0.89      2284\n",
            "   macro avg       0.89      0.89      0.89      2284\n",
            "weighted avg       0.89      0.89      0.89      2284\n",
            "\n"
          ]
        }
      ]
    },
    {
      "cell_type": "markdown",
      "metadata": {
        "id": "wTSbmmA2-nRC"
      },
      "source": [
        "###  Topic Modelling"
      ]
    },
    {
      "cell_type": "code",
      "metadata": {
        "id": "KwuX2Sr8-3Vg"
      },
      "source": [
        "import gensim\n",
        "from gensim.test.utils import common_texts\n",
        "from gensim.corpora.dictionary import Dictionary\n",
        "from gensim.models import LdaModel"
      ],
      "execution_count": 35,
      "outputs": []
    },
    {
      "cell_type": "code",
      "metadata": {
        "id": "hVIwrPzz-6qf"
      },
      "source": [
        "# Create a corpus from a list of texts\n",
        "common_dictionary = Dictionary(proc_text)\n",
        "corpus = [common_dictionary.doc2bow(text) for text in proc_text]\n",
        "\n",
        "temp = common_dictionary[0]  # This is only to \"load\" the dictionary.\n",
        "id2word = common_dictionary.id2token\n",
        "# Train the model on the corpus.\n",
        "model = LdaModel(\n",
        "    corpus=corpus,\n",
        "    id2word=id2word,\n",
        "    num_topics = 2 \n",
        ")"
      ],
      "execution_count": 40,
      "outputs": []
    },
    {
      "cell_type": "code",
      "metadata": {
        "colab": {
          "base_uri": "https://localhost:8080/"
        },
        "id": "zmQMOeNO_ogG",
        "outputId": "e80685af-d012-40d1-f5cc-af1de36d002a"
      },
      "source": [
        "model.print_topics()"
      ],
      "execution_count": 41,
      "outputs": [
        {
          "output_type": "execute_result",
          "data": {
            "text/plain": [
              "[(0,\n",
              "  '0.003*\"wreckage conclusively confirm malaysia pm investigator family\" + 0.002*\"watch airport swallow sandstorm minute\" + 0.002*\"pic old pkk suicide bomber detonate bomb turkey army trench release\" + 0.002*\"rly tragedy mp live recount horror see coach train plunge water call\" + 0.001*\"family sue legionnaire family affect fatal outbreak legionnaire disea\" + 0.001*\"hot funtenna hijack computer send datum sound wave black hat prebreak good\" + 0.001*\"late home raze northern california wildfire abc news\" + 0.001*\"truth news bbc cnn islam truth god isis terrorism quran lie\" + 0.001*\"horrible sink feeling home phone realise g time\" + 0.001*\"refugio oil spill costlier big project\"'),\n",
              " (1,\n",
              "  '0.003*\"wreckage conclusively confirm malaysia pm investigator family\" + 0.002*\"pic old pkk suicide bomber detonate bomb turkey army trench release\" + 0.002*\"watch airport swallow sandstorm minute\" + 0.002*\"rly tragedy mp live recount horror see coach train plunge water call\" + 0.001*\"family sue legionnaire family affect fatal outbreak legionnaire disea\" + 0.001*\"hot funtenna hijack computer send datum sound wave black hat prebreak good\" + 0.001*\"horrible sink feeling home phone realise g time\" + 0.001*\"truth news bbc cnn islam truth god isis terrorism quran lie\" + 0.001*\"obama declare disaster typhoon devastate saipan obama sign disaster declaration northern marians\" + 0.001*\"late home raze northern california wildfire abc news\"')]"
            ]
          },
          "metadata": {},
          "execution_count": 41
        }
      ]
    },
    {
      "cell_type": "code",
      "metadata": {
        "id": "FR4ucJCP_s9f"
      },
      "source": [
        ""
      ],
      "execution_count": null,
      "outputs": []
    }
  ]
}